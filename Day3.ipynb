{
  "nbformat": 4,
  "nbformat_minor": 0,
  "metadata": {
    "colab": {
      "provenance": []
    },
    "kernelspec": {
      "name": "python3",
      "display_name": "Python 3"
    },
    "language_info": {
      "name": "python"
    }
  },
  "cells": [
    {
      "cell_type": "markdown",
      "source": [
        "# **list vs tuple**"
      ],
      "metadata": {
        "id": "h_SiDEO4Ls1Y"
      }
    },
    {
      "cell_type": "code",
      "source": [
        "list1=[1,2,3]\n",
        "tu=(1,2,3)\n",
        "\n",
        "list2=list(tu)\n",
        "list2[2]=4\n",
        "print(list2)"
      ],
      "metadata": {
        "colab": {
          "base_uri": "https://localhost:8080/"
        },
        "id": "kB3z1NW9LvqF",
        "outputId": "35618653-c1c3-4573-e251-5e5c984a484e"
      },
      "execution_count": null,
      "outputs": [
        {
          "output_type": "stream",
          "name": "stdout",
          "text": [
            "[1, 2, 4]\n"
          ]
        }
      ]
    },
    {
      "cell_type": "markdown",
      "source": [
        "# **multiple data type assignment**"
      ],
      "metadata": {
        "id": "sWPaahYHMpkU"
      }
    },
    {
      "cell_type": "code",
      "source": [
        "(a,*b,c)=(1,2,3,4,5)\n",
        "print(a)\n",
        "print(b)\n",
        "print(c)"
      ],
      "metadata": {
        "colab": {
          "base_uri": "https://localhost:8080/"
        },
        "id": "0MYauG-0Mw1c",
        "outputId": "e31351a2-c4b8-4e96-d1b5-eb506c799343"
      },
      "execution_count": null,
      "outputs": [
        {
          "output_type": "stream",
          "name": "stdout",
          "text": [
            "1\n",
            "[2, 3, 4]\n",
            "5\n"
          ]
        }
      ]
    },
    {
      "cell_type": "markdown",
      "source": [
        "# **Dictionary**"
      ],
      "metadata": {
        "id": "4xjxpIAgNmM4"
      }
    },
    {
      "cell_type": "code",
      "source": [
        "'''\n",
        "fruitprice={\"Apple\":10,\"Banana\":20,\"Cherry\":30}\n",
        "print(fruitprice)\n",
        "fruitprice[\"Graps\"]=40\n",
        "print(fruitprice[\"Graps\"])\n",
        "\n",
        "for i in fruitprice.items():\n",
        "  print(i)\n",
        "'''\n",
        "\n",
        "veggiePrice=dict(apple=10,banna=20,cherry=30)\n",
        "print(veggiePrice)"
      ],
      "metadata": {
        "colab": {
          "base_uri": "https://localhost:8080/"
        },
        "id": "QJVZ1vkJNrYL",
        "outputId": "dacbaf6e-355b-47d2-c18b-80eda3882421"
      },
      "execution_count": null,
      "outputs": [
        {
          "output_type": "stream",
          "name": "stdout",
          "text": [
            "{'apple': 10, 'banna': 20, 'cherry': 30}\n"
          ]
        }
      ]
    },
    {
      "cell_type": "markdown",
      "source": [
        "# **Python set**"
      ],
      "metadata": {
        "id": "kE9dMkArPaVJ"
      }
    },
    {
      "cell_type": "code",
      "source": [
        "fruits={\"apple\",\"mango\"}\n",
        "print(fruits)\n",
        "fruits2={\"jackfruit\",\"mango\"}\n",
        "#set union\n",
        "a=fruits.union(fruits2)\n",
        "print(a)\n",
        "\n",
        "#set intersection\n",
        "a=fruits.intersection(fruits2)\n",
        "print(a)\n",
        "\n",
        "a=fruits2.difference(fruits)\n",
        "print(a)"
      ],
      "metadata": {
        "colab": {
          "base_uri": "https://localhost:8080/"
        },
        "id": "LiNU3HhiPeCE",
        "outputId": "0cbc257c-c305-4833-aea6-5471e5ff4194"
      },
      "execution_count": null,
      "outputs": [
        {
          "output_type": "stream",
          "name": "stdout",
          "text": [
            "{'apple', 'mango'}\n",
            "{'apple', 'mango', 'jackfruit'}\n",
            "{'mango'}\n",
            "{'jackfruit'}\n"
          ]
        }
      ]
    },
    {
      "cell_type": "markdown",
      "source": [
        "# **function in python**"
      ],
      "metadata": {
        "id": "zyJ8eeZGRjbs"
      }
    },
    {
      "cell_type": "code",
      "source": [
        "def addition(a,b):\n",
        "  return a+b\n",
        "\n",
        "a=addition(5,3)\n",
        "print(a)\n",
        "def sub(b,c):\n",
        "  return b-c\n",
        "\n",
        "print(sub(6,5))"
      ],
      "metadata": {
        "colab": {
          "base_uri": "https://localhost:8080/"
        },
        "id": "bNbU2AFTRm66",
        "outputId": "c841648c-7b55-486a-fd50-beea12acadcc"
      },
      "execution_count": null,
      "outputs": [
        {
          "output_type": "stream",
          "name": "stdout",
          "text": [
            "8\n",
            "1\n"
          ]
        }
      ]
    },
    {
      "cell_type": "markdown",
      "source": [
        "# **Class with constractor declaration**"
      ],
      "metadata": {
        "id": "Fj6chJ8JWREe"
      }
    },
    {
      "cell_type": "code",
      "source": [
        "class Person:\n",
        "  def __init__(self, name, age):\n",
        "    self.name = name\n",
        "    self.age = age\n",
        "\n",
        "p1 = Person(\"John\", 36)\n",
        "\n",
        "print(p1.name)\n",
        "print(p1.age) \n",
        "\n"
      ],
      "metadata": {
        "colab": {
          "base_uri": "https://localhost:8080/"
        },
        "id": "NTo5kfHlWyR6",
        "outputId": "085b3a90-2bc8-4069-fe23-b346682a681b"
      },
      "execution_count": null,
      "outputs": [
        {
          "output_type": "stream",
          "name": "stdout",
          "text": [
            "John\n",
            "36\n"
          ]
        }
      ]
    },
    {
      "cell_type": "markdown",
      "source": [
        "#**Data structure concept(Queue,Stack)**\n",
        "###**Stack and heap Memory**\n",
        "\n",
        "###**Stack memory data isn't deletable**\n",
        "###**heap memory data is delatable**\n"
      ],
      "metadata": {
        "id": "9UXIQZsUZ5dE"
      }
    },
    {
      "cell_type": "markdown",
      "source": [
        "\n",
        "\n",
        "###**Stack works in LIFO method**\n",
        "###**Queue works in FIFO method**\n"
      ],
      "metadata": {
        "id": "qZJo5yDvbDrH"
      }
    },
    {
      "cell_type": "markdown",
      "source": [
        "# **Stack**"
      ],
      "metadata": {
        "id": "g5G_TsDzOznE"
      }
    },
    {
      "cell_type": "code",
      "source": [
        "book=[]\n",
        "book.append(\"a\")\n",
        "book.append(\"b\")\n",
        "book.append(\"c\")\n",
        "book.append(\"d\")\n",
        "book.pop()\n",
        "book.pop()\n",
        "print(book[-1])"
      ],
      "metadata": {
        "colab": {
          "base_uri": "https://localhost:8080/"
        },
        "id": "tbSG1XjRbIIS",
        "outputId": "e2e33d35-1d38-4459-833f-78d3f2195f4b"
      },
      "execution_count": null,
      "outputs": [
        {
          "output_type": "stream",
          "name": "stdout",
          "text": [
            "b\n"
          ]
        }
      ]
    },
    {
      "cell_type": "markdown",
      "source": [
        "# **Queue**"
      ],
      "metadata": {
        "id": "wP97DethO3rt"
      }
    },
    {
      "cell_type": "code",
      "source": [
        "from collections import deque\n",
        "bank=deque([\"a\",\"b\",\"c\"])\n",
        "print(bank[0])\n",
        "bank.popleft()\n",
        "print(bank[0])"
      ],
      "metadata": {
        "colab": {
          "base_uri": "https://localhost:8080/"
        },
        "id": "OcFHZQOEcexi",
        "outputId": "7f8684bd-d6f4-4c1d-c731-ef559b10b94e"
      },
      "execution_count": null,
      "outputs": [
        {
          "output_type": "stream",
          "name": "stdout",
          "text": [
            "a\n",
            "b\n"
          ]
        }
      ]
    }
  ]
}