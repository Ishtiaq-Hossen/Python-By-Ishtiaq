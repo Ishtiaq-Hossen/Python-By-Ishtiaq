{
  "nbformat": 4,
  "nbformat_minor": 0,
  "metadata": {
    "colab": {
      "provenance": []
    },
    "kernelspec": {
      "name": "python3",
      "display_name": "Python 3"
    },
    "language_info": {
      "name": "python"
    }
  },
  "cells": [
    {
      "cell_type": "markdown",
      "source": [
        "# **Operator**"
      ],
      "metadata": {
        "id": "YSX9jwBGmO2W"
      }
    },
    {
      "cell_type": "code",
      "source": [
        "'''\n",
        "+,-,*,/,=     => Assignment operator \n",
        "x=3-5\n",
        "\n",
        "\n",
        "!=  ,<=  ,>= ,==      => relational operator \n",
        "'''\n",
        "\n"
      ],
      "metadata": {
        "colab": {
          "base_uri": "https://localhost:8080/",
          "height": 35
        },
        "id": "lJKQT7xcmTMS",
        "outputId": "72fbc4a5-8ac4-4f0a-d04a-4ebdb42bd452"
      },
      "execution_count": 152,
      "outputs": [
        {
          "output_type": "execute_result",
          "data": {
            "text/plain": [
              "'\\n+,-,*,/,=     => Assignment operator \\nx=3-5\\n\\n\\n!=  ,<=  ,>= ,==      => relational operator \\n'"
            ],
            "application/vnd.google.colaboratory.intrinsic+json": {
              "type": "string"
            }
          },
          "metadata": {},
          "execution_count": 152
        }
      ]
    },
    {
      "cell_type": "markdown",
      "source": [
        "# **if-else**"
      ],
      "metadata": {
        "id": "qzgxRWFC-jD_"
      }
    },
    {
      "cell_type": "code",
      "source": [
        "\n",
        "a=int(input())\n",
        "\n",
        "if (a%2==0):\n",
        "  print(\"odd\")\n",
        "if (a>10):\n",
        "  print(\"a is greater than 10\")\n",
        "if(a<10):\n",
        "  print(\"a is less than 10\")\n"
      ],
      "metadata": {
        "id": "tZa6A_-C-lql"
      },
      "execution_count": null,
      "outputs": []
    },
    {
      "cell_type": "markdown",
      "source": [
        "# **if-elif**"
      ],
      "metadata": {
        "id": "zJFLvTi6-pFG"
      }
    },
    {
      "cell_type": "code",
      "source": [
        "\n",
        "a=int(input())\n",
        "\n",
        "if (a%2==0):\n",
        "  print(\"odd\")\n",
        "elif (a>10):\n",
        "  print(\"a is greater than 10\")\n",
        "elif(a<10):\n",
        "  print(\"a is less than 10\")\n"
      ],
      "metadata": {
        "id": "dTfSL-wl-quu"
      },
      "execution_count": null,
      "outputs": []
    },
    {
      "cell_type": "markdown",
      "source": [
        "# **Loop**"
      ],
      "metadata": {
        "id": "gXZJAybO_Ik1"
      }
    },
    {
      "cell_type": "code",
      "source": [
        "'''\n",
        "for i in range (1,6):\n",
        "  print(i, end=\" \")\n",
        "'''\n",
        "\n",
        "for i in range (1,11):\n",
        "  if(i%2!=0):\n",
        "    print(i)\n",
        "\n",
        "'''\n",
        "for i in range (1,11):\n",
        "  print(i*2)\n",
        "'''\n",
        "#loop\n",
        "#for loop,while loop, do while\n",
        "\n",
        "'''\n",
        "for i in range (10,0,-1):\n",
        "  print(i)\n",
        "'''\n"
      ],
      "metadata": {
        "colab": {
          "base_uri": "https://localhost:8080/"
        },
        "id": "uPibTODC_QIf",
        "outputId": "6ad86b58-decd-482f-f145-535d80ab1e5f"
      },
      "execution_count": 146,
      "outputs": [
        {
          "output_type": "stream",
          "name": "stdout",
          "text": [
            "10\n",
            "9\n",
            "8\n",
            "7\n",
            "6\n",
            "5\n",
            "4\n",
            "3\n",
            "2\n",
            "1\n"
          ]
        }
      ]
    },
    {
      "cell_type": "markdown",
      "source": [
        "# **Pattern**"
      ],
      "metadata": {
        "id": "8zV7bFX8_XRl"
      }
    },
    {
      "cell_type": "code",
      "source": [
        "#matrix related \n",
        "for i in range (1,9):\n",
        "\n",
        "  for j in range (1,i):\n",
        "    print(\"*\",end=\" \")\n",
        "  print()"
      ],
      "metadata": {
        "id": "iHgFnU-7_aDN"
      },
      "execution_count": null,
      "outputs": []
    },
    {
      "cell_type": "markdown",
      "source": [
        "# **List and tuple**"
      ],
      "metadata": {
        "id": "WVW_K7LK_lms"
      }
    },
    {
      "cell_type": "code",
      "source": [
        "#mutable x immutable\n",
        "\n",
        "list1=[1,2,1,4]\n",
        "#######0,1,2, 3  => indexing\n",
        "print(list1[1:3])\n",
        "list1.reverse()\n",
        "list1.reverse()\n",
        "list1.pop()\n",
        "print(list1.count(1))\n",
        "\n",
        "a=len(list1)\n",
        "print(a)\n",
        "# print(list1)\n"
      ],
      "metadata": {
        "id": "YYchc9bqAHNU"
      },
      "execution_count": null,
      "outputs": []
    },
    {
      "cell_type": "markdown",
      "source": [
        "# **Showing function of a datatype**"
      ],
      "metadata": {
        "id": "UUDczdkjAbaM"
      }
    },
    {
      "cell_type": "code",
      "source": [
        "dir(list)"
      ],
      "metadata": {
        "id": "0eEC9kKOAYHM"
      },
      "execution_count": null,
      "outputs": []
    },
    {
      "cell_type": "markdown",
      "source": [
        "# **List and tuple differences (space complexity)**"
      ],
      "metadata": {
        "id": "dz6Pw8waAvhM"
      }
    },
    {
      "cell_type": "code",
      "source": [
        "import sys #importing system library\n",
        "list1=[1,2,\"hello\",4,5]\n",
        "tuple1=(1,2,\"hello\",4,5)\n",
        "list1[2]=3\n",
        "print(sys.getsizeof(list1))\n",
        "print(sys.getsizeof(tuple1))\n"
      ],
      "metadata": {
        "id": "UyvSfWwwAyf3"
      },
      "execution_count": null,
      "outputs": []
    },
    {
      "cell_type": "markdown",
      "source": [
        "# **Source code**"
      ],
      "metadata": {
        "id": "fO1RL2r4Eb4i"
      }
    },
    {
      "cell_type": "code",
      "source": [
        "import inspect \n",
        "import queue\n",
        "print(inspect.getsource(list))"
      ],
      "metadata": {
        "id": "F-kkEyqpEaTh"
      },
      "execution_count": null,
      "outputs": []
    },
    {
      "cell_type": "markdown",
      "source": [
        "# **Bonus Task on tuple to list conversion**"
      ],
      "metadata": {
        "id": "p_Gs3JfPBMwb"
      }
    },
    {
      "cell_type": "code",
      "source": [
        "list1=[1,2,\"hello\",4,5]\n",
        "tuple1=(1,2,\"hello\",4,5)\n",
        "list2=[]\n",
        "list2=list(tuple1)\n",
        "print(list2)"
      ],
      "metadata": {
        "colab": {
          "base_uri": "https://localhost:8080/",
          "height": 219
        },
        "id": "cE0LjCr_BR7U",
        "outputId": "8630ac83-808b-4c18-dae4-32cc6f249a29"
      },
      "execution_count": 150,
      "outputs": [
        {
          "output_type": "error",
          "ename": "TypeError",
          "evalue": "ignored",
          "traceback": [
            "\u001b[0;31m---------------------------------------------------------------------------\u001b[0m",
            "\u001b[0;31mTypeError\u001b[0m                                 Traceback (most recent call last)",
            "\u001b[0;32m<ipython-input-150-849e41b0fd72>\u001b[0m in \u001b[0;36m<cell line: 4>\u001b[0;34m()\u001b[0m\n\u001b[1;32m      2\u001b[0m \u001b[0mtuple1\u001b[0m\u001b[0;34m=\u001b[0m\u001b[0;34m(\u001b[0m\u001b[0;36m1\u001b[0m\u001b[0;34m,\u001b[0m\u001b[0;36m2\u001b[0m\u001b[0;34m,\u001b[0m\u001b[0;34m\"hello\"\u001b[0m\u001b[0;34m,\u001b[0m\u001b[0;36m4\u001b[0m\u001b[0;34m,\u001b[0m\u001b[0;36m5\u001b[0m\u001b[0;34m)\u001b[0m\u001b[0;34m\u001b[0m\u001b[0;34m\u001b[0m\u001b[0m\n\u001b[1;32m      3\u001b[0m \u001b[0mlist2\u001b[0m\u001b[0;34m=\u001b[0m\u001b[0;34m[\u001b[0m\u001b[0;34m]\u001b[0m\u001b[0;34m\u001b[0m\u001b[0;34m\u001b[0m\u001b[0m\n\u001b[0;32m----> 4\u001b[0;31m \u001b[0mlist2\u001b[0m\u001b[0;34m=\u001b[0m\u001b[0mlist\u001b[0m\u001b[0;34m(\u001b[0m\u001b[0mtuple1\u001b[0m\u001b[0;34m)\u001b[0m\u001b[0;34m\u001b[0m\u001b[0;34m\u001b[0m\u001b[0m\n\u001b[0m\u001b[1;32m      5\u001b[0m \u001b[0mprint\u001b[0m\u001b[0;34m(\u001b[0m\u001b[0mlist2\u001b[0m\u001b[0;34m)\u001b[0m\u001b[0;34m\u001b[0m\u001b[0;34m\u001b[0m\u001b[0m\n",
            "\u001b[0;31mTypeError\u001b[0m: 'list' object is not callable"
          ]
        }
      ]
    }
  ]
}