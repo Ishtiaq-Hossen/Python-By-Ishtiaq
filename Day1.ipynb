{
  "nbformat": 4,
  "nbformat_minor": 0,
  "metadata": {
    "colab": {
      "provenance": []
    },
    "kernelspec": {
      "name": "python3",
      "display_name": "Python 3"
    },
    "language_info": {
      "name": "python"
    }
  },
  "cells": [
    {
      "cell_type": "markdown",
      "source": [
        "Talks about programming"
      ],
      "metadata": {
        "id": "mHh9pnSgA_XO"
      }
    },
    {
      "cell_type": "code",
      "source": [
        "\n",
        "#initialization\n",
        "#Processing\n",
        "#Output"
      ],
      "metadata": {
        "id": "V-Rl8nl4A7d8"
      },
      "execution_count": null,
      "outputs": []
    },
    {
      "cell_type": "markdown",
      "source": [
        "Data Types talks"
      ],
      "metadata": {
        "id": "lmMvXekLVgWt"
      }
    },
    {
      "cell_type": "code",
      "execution_count": null,
      "metadata": {
        "colab": {
          "base_uri": "https://localhost:8080/"
        },
        "id": "PVeWwA5WxW8a",
        "outputId": "314d501f-d800-48d4-a0de-eb4ce32c202f"
      },
      "outputs": [
        {
          "output_type": "stream",
          "name": "stdout",
          "text": [
            "2\n",
            "3\n",
            "addition is 2+3=  5\n"
          ]
        }
      ],
      "source": [
        "'''\n",
        "data type ?\n",
        "1=> integer==> datatype \n",
        "1.2==> float==> datatype\n",
        "Sadat=> String ==>datatype\n",
        "S=>Char datatype,string \n",
        "string +integer\n",
        "''''\n",
        "\n"
      ]
    },
    {
      "cell_type": "markdown",
      "source": [
        "Subtraction"
      ],
      "metadata": {
        "id": "HETTe5pQUQU3"
      }
    },
    {
      "cell_type": "code",
      "source": [
        "#1234567 ,34567899\n",
        "#sub\n",
        "a=1234567 \n",
        "b=3456789\n",
        "c=a-b\n",
        "print(\"Answer is \",c)"
      ],
      "metadata": {
        "id": "HPPlawxiURb6"
      },
      "execution_count": null,
      "outputs": []
    },
    {
      "cell_type": "markdown",
      "source": [
        "Multiplication"
      ],
      "metadata": {
        "id": "5aqVFkkAUnx1"
      }
    },
    {
      "cell_type": "code",
      "source": [
        "a=1234567 \n",
        "b=3456789\n",
        "c=a*b\n",
        "print(\"Multiply answer is \",c)"
      ],
      "metadata": {
        "id": "JZ55OW2fUoHK"
      },
      "execution_count": null,
      "outputs": []
    },
    {
      "cell_type": "markdown",
      "source": [
        "pow"
      ],
      "metadata": {
        "id": "zsxtNTRZUyM_"
      }
    },
    {
      "cell_type": "code",
      "source": [
        "a=2\n",
        "b=3\n",
        "c=2**3 # 2^3 here ^ isn't in python syntax list\n",
        "print(\"pow answer: \",c)"
      ],
      "metadata": {
        "id": "S0f-HCnMUzA2"
      },
      "execution_count": null,
      "outputs": []
    },
    {
      "cell_type": "markdown",
      "source": [
        "Remainder"
      ],
      "metadata": {
        "id": "5z6A2WtdVAqs"
      }
    },
    {
      "cell_type": "code",
      "source": [
        "a=7\n",
        "b=2\n",
        "#processing\n",
        "c=(7%2)\n",
        "#output\n",
        "print(\"remainder is: \",c)"
      ],
      "metadata": {
        "id": "uuwnRB57VBI8"
      },
      "execution_count": null,
      "outputs": []
    },
    {
      "cell_type": "markdown",
      "source": [
        "Typecasting & formating"
      ],
      "metadata": {
        "id": "tX9DQhY9VKwj"
      }
    },
    {
      "cell_type": "code",
      "source": [
        "#typecasting\n",
        "\n",
        "a=int(input());\n",
        "b=int(input());\n",
        "c=a+b\n",
        "print(f\"addition is {a}+{b}= \",c)"
      ],
      "metadata": {
        "id": "zW5yieWtVMYs"
      },
      "execution_count": null,
      "outputs": []
    }
  ]
}